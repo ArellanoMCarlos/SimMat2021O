{
 "cells": [
  {
   "cell_type": "markdown",
   "metadata": {},
   "source": [
    "# Repaso (Módulo 3)\n",
    "> Recordar que el tema principal del módulo son las ecuaciones diferenciales. Entonces, al finalizar este módulo, las competencias principales que deben tener ustedes es\n",
    "> - Resolver de forma numérica ecuaciones diferenciales ordinarias (EDO) de cualquier orden.\n",
    "> - Graficar soluciones de dichas EDO en diferentes representaciones.\n",
    "> - Interpretar o concluir acerca de las gráficas que se obtuvieron."
   ]
  },
  {
   "cell_type": "markdown",
   "metadata": {},
   "source": [
    "___\n",
    "## Ejemplo 1. Conejos vs. Ovejas."
   ]
  },
  {
   "cell_type": "markdown",
   "metadata": {
    "collapsed": true
   },
   "source": [
    "Imaginemos que en un mismo ecosistema se encuentran conejos y ovejas. Supongamos, además, que ambas compiten por el mismo alimento (hierba) y que la cantidad total de alimento es limitada. Se ignoran otros factores como depredadores, efectos de temporada (estaciones), y otras fuentes de comida. El modelo de competición entre dos especies **Lotka-Volterra** nos sirve para describir este fenómeno.\n",
    "\n",
    "Dos fenómenos importantes:\n",
    "- Cada especie crecería hasta su capacidad máxima en ausencia de la otra especie. Esto se puede modelar con la ecuación logística para cada especie. Los conejos tienen una habilidad soprendente para reproducirse, entonces comparativamente deberían crecer más.\n",
    "- Cuando conejos y ovejas se encuentran, empieza la competencia. Algunas veces los conejos comen, pero las ovejas (al ser más grandes) ganarán el derecho a la comida la mayoría de las veces. Supondremos que dichos conflictos se dan a una tasa proporcional al tamaño de cada población (si hay dos veces más ovejas, la probabilidad de que un conejo encuentre a una oveja será el doble). Supondremos que dicha competencia disminuirá la tasa de crecimiento para cada especie, y el efecto será mayor para los conejos."
   ]
  },
  {
   "cell_type": "markdown",
   "metadata": {},
   "source": [
    "Con las consideraciones anteriores, un modelo específico es:\n",
    "\n",
    "\\begin{align}\n",
    "\\frac{dx_1}{dt} &= x_1(3-x_1-2x_2)\\\\\n",
    "\\frac{dx_2}{dt} &= x_2(2-x_2-x_1),\n",
    "\\end{align}\n",
    "\n",
    "donde $x_1(t)\\geq 0$ es la población de conejos al instante $t$ y $x_2(t)\\geq 0$ es la población de ovejas al instante $t$. Definimos $x=\\left[x_1\\quad x_2\\right]^T$.\n",
    "\n",
    "Esta selección de coeficientes se tiene para recrear el escenario descrito. Sin embargo, este modelo se puede utilizar para estudiar competición entre especies en general y los coeficientes cambiarán en cada caso."
   ]
  },
  {
   "cell_type": "markdown",
   "metadata": {},
   "source": [
    "Simule el sistema para cada una de las siguientes condiciones iniciales. Para cada caso, obtenga gráficas de $x_1$ vs. $t$, $x_2$ vs. $t$ y $x_2$ vs. $x_1$. ¿Qué pasa con las poblaciones de conejos y de ovejas cuando $t\\to\\infty$? ¿Pueden coexistir?\n",
    "\n",
    "1. $x(0)=\\left[x_1(0)\\quad x_2(0)\\right]^T = [0.5 \\quad 1]^T$.\n",
    "2. $x(0)=\\left[x_1(0)\\quad x_2(0)\\right]^T = [1 \\quad 0.5]^T$.\n",
    "3. $x(0)=\\left[x_1(0)\\quad x_2(0)\\right]^T = [1.5 \\quad 1]^T$.\n",
    "4. $x(0)=\\left[x_1(0)\\quad x_2(0)\\right]^T = [1 \\quad 1.5]^T$.\n",
    "5. $x(0)=\\left[x_1(0)\\quad x_2(0)\\right]^T = [1 \\quad 1]^T$."
   ]
  },
  {
   "cell_type": "markdown",
   "metadata": {},
   "source": [
    "Referencia:\n",
    "- Strogatz, Steven. *NONLINEAR DYNAMICS AND CHAOS*, ISBN: 9780813349107, (eBook disponible en biblioteca)."
   ]
  },
  {
   "cell_type": "code",
   "execution_count": 2,
   "metadata": {},
   "outputs": [],
   "source": [
    "from scipy.integrate import odeint\n",
    "import numpy as np\n",
    "import matplotlib.pyplot as plt"
   ]
  },
  {
   "cell_type": "code",
   "execution_count": 5,
   "metadata": {},
   "outputs": [],
   "source": [
    "def fun(x,t):\n",
    "    dx=np.array([\n",
    "        x[0]*(3-x[0]-2*x[1]),\n",
    "        x[1]*(2-x[1]-x[0])\n",
    "    ])\n",
    "    return dx\n",
    "t=np.linspace(0,20,1000)"
   ]
  },
  {
   "cell_type": "code",
   "execution_count": 18,
   "metadata": {},
   "outputs": [
    {
     "data": {
      "image/png": "[encoded data removed]",
      "text/plain": [
       "<Figure size 864x360 with 2 Axes>"
      ]
     },
     "metadata": {
      "needs_background": "light"
     },
     "output_type": "display_data"
    }
   ],
   "source": [
    "# Condiciones iniciales\n",
    "#x0=[0.5,1]            # Caso 1\n",
    "#x0=[1,0.5]            # Caso 2\n",
    "#x0=[1.5, 1]           # Caso 3\n",
    "#x0=[1,1.5]            # Caso 4\n",
    "x0=[1,1]              # Caso 5\n",
    "\n",
    "x=odeint(fun,x0,t)\n",
    "x1=x[:,0]\n",
    "x2=x[:,1]\n",
    "\n",
    "# Gráfica con respecto al tiempo\n",
    "plt.figure(figsize=(12,5))\n",
    "plt.subplot(1,2,1)\n",
    "plt.plot(t,x1,label='Población de conejos')\n",
    "plt.plot(t,x2,label='Población de ovejas')\n",
    "plt.xlabel('tiempo')\n",
    "plt.legend(loc='best')\n",
    "plt.grid()\n",
    "\n",
    "# Plano de fase\n",
    "plt.subplot(1,2,2)\n",
    "plt.plot(x1,x2)\n",
    "plt.plot(x1[0],x2[0],'*b',label='Inicio')\n",
    "plt.plot(x1[-1],x2[-1],'*r',label='Fin')\n",
    "plt.xlabel('Conejos')\n",
    "plt.ylabel('Ovejas')\n",
    "plt.legend(loc='best')\n",
    "plt.grid()"
   ]
  },
  {
   "cell_type": "markdown",
   "metadata": {},
   "source": [
    "## Ejemplo 2\n",
    "\n",
    "### Primer punto. \n",
    "Resolver con `sympy` la siguientes ecuación diferencial:\n",
    "$$\\frac{dx}{dt}=\\frac{x}{t+1}.$$\n",
    "Sustituya `'C1'` con `e`."
   ]
  },
  {
   "cell_type": "code",
   "execution_count": 19,
   "metadata": {},
   "outputs": [],
   "source": [
    "import sympy as sym"
   ]
  },
  {
   "cell_type": "code",
   "execution_count": 20,
   "metadata": {},
   "outputs": [
    {
     "data": {
      "text/latex": [
       "$\\displaystyle x{\\left(t \\right)}$"
      ],
      "text/plain": [
       "x(t)"
      ]
     },
     "execution_count": 20,
     "metadata": {},
     "output_type": "execute_result"
    }
   ],
   "source": [
    "sym.var('t',real=True)\n",
    "x=sym.Function('x')\n",
    "x(t)               # Siempre expresamos a 'x' como función de una variable"
   ]
  },
  {
   "cell_type": "code",
   "execution_count": 22,
   "metadata": {},
   "outputs": [
    {
     "data": {
      "text/latex": [
       "$\\displaystyle x{\\left(t \\right)} = C_{1} \\left(t + 1\\right)$"
      ],
      "text/plain": [
       "Eq(x(t), C1*(t + 1))"
      ]
     },
     "execution_count": 22,
     "metadata": {},
     "output_type": "execute_result"
    }
   ],
   "source": [
    "eq=x(t).diff(t)-x(t)/(t+1)\n",
    "sol=sym.dsolve(eq,x(t))\n",
    "sol"
   ]
  },
  {
   "cell_type": "code",
   "execution_count": 23,
   "metadata": {},
   "outputs": [
    {
     "data": {
      "text/latex": [
       "$\\displaystyle C_{1} \\left(t + 1\\right)$"
      ],
      "text/plain": [
       "C1*(t + 1)"
      ]
     },
     "execution_count": 23,
     "metadata": {},
     "output_type": "execute_result"
    }
   ],
   "source": [
    "sol.args[1]"
   ]
  },
  {
   "cell_type": "code",
   "execution_count": 24,
   "metadata": {},
   "outputs": [
    {
     "data": {
      "text/latex": [
       "$\\displaystyle x{\\left(t \\right)} = e \\left(t + 1\\right)$"
      ],
      "text/plain": [
       "Eq(x(t), E*(t + 1))"
      ]
     },
     "execution_count": 24,
     "metadata": {},
     "output_type": "execute_result"
    }
   ],
   "source": [
    "sol.subs('C1',sym.exp(1))"
   ]
  },
  {
   "cell_type": "markdown",
   "metadata": {},
   "source": [
    "### Segundo punto.\n",
    "Obtener la solución numérica con una condición inicial $x(0)=1$ y graficarla"
   ]
  },
  {
   "cell_type": "code",
   "execution_count": 25,
   "metadata": {},
   "outputs": [
    {
     "data": {
      "text/plain": [
       "2"
      ]
     },
     "execution_count": 25,
     "metadata": {},
     "output_type": "execute_result"
    }
   ],
   "source": [
    "# Usando lambdify\n",
    "fn=sym.lambdify(t,sol.args[1].subs('C1',1),'numpy')\n",
    "fn(1)"
   ]
  },
  {
   "cell_type": "code",
   "execution_count": 26,
   "metadata": {},
   "outputs": [
    {
     "data": {
      "image/png": "[encoded data removed]",
      "text/plain": [
       "<Figure size 432x288 with 1 Axes>"
      ]
     },
     "metadata": {
      "needs_background": "light"
     },
     "output_type": "display_data"
    }
   ],
   "source": [
    "tiempo=np.linspace(0,10,100)\n",
    "plt.plot(tiempo,fn(tiempo))\n",
    "plt.grid()"
   ]
  },
  {
   "cell_type": "code",
   "execution_count": 27,
   "metadata": {},
   "outputs": [
    {
     "data": {
      "image/png": "[encoded data removed]",
      "text/plain": [
       "<Figure size 432x288 with 1 Axes>"
      ]
     },
     "metadata": {
      "needs_background": "light"
     },
     "output_type": "display_data"
    }
   ],
   "source": [
    "# Usando odeint\n",
    "def f(x,t):\n",
    "    return x/(t+1)\n",
    "x=odeint(f,1,tiempo)[:,0]\n",
    "plt.plot(tiempo,x)\n",
    "plt.grid()"
   ]
  },
  {
   "cell_type": "markdown",
   "metadata": {},
   "source": [
    "### Tercer punto\n",
    "Comparar la solución numérica con la solución analítica (exacta). Graficar el error."
   ]
  },
  {
   "cell_type": "code",
   "execution_count": 28,
   "metadata": {},
   "outputs": [
    {
     "data": {
      "image/png": "[encoded data removed]",
      "text/plain": [
       "<Figure size 432x288 with 1 Axes>"
      ]
     },
     "metadata": {
      "needs_background": "light"
     },
     "output_type": "display_data"
    }
   ],
   "source": [
    "e=fn(tiempo)-x\n",
    "plt.plot(tiempo,e)\n",
    "plt.grid()"
   ]
  }
 ],
 "metadata": {
  "kernelspec": {
   "display_name": "Python 3",
   "language": "python",
   "name": "python3"
  },
  "language_info": {
   "codemirror_mode": {
    "name": "ipython",
    "version": 3
   },
   "file_extension": ".py",
   "mimetype": "text/x-python",
   "name": "python",
   "nbconvert_exporter": "python",
   "pygments_lexer": "ipython3",
   "version": "3.8.8"
  }
 },
 "nbformat": 4,
 "nbformat_minor": 2
}
