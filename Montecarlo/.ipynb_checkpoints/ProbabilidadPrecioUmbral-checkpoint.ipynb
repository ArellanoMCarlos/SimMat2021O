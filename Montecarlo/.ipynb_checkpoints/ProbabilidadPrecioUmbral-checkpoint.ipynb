{
 "cells": [
  {
   "cell_type": "markdown",
   "metadata": {},
   "source": [
    "# Aplicando Python para análisis de precios: simulación de escenarios futuros de precios\n",
    "\n",
    "<img style=\"float: right; margin: 0px 0px 15px 15px;\" src=\"https://upload.wikimedia.org/wikipedia/commons/d/d7/Philippine-stock-market-board.jpg\" width=\"400px\" height=\"125px\" />\n",
    "\n",
    "> En la clase anterior vimos como importar datos de activos de la base de datos de Yahoo Finance usando el paquete pandas-datareader. En esta clase, veremos como pronosticar escenarios de evolución de precios, suponiendo que los rendimientos diarios se distribuyen normalmente. Como esta evolución de precios es aleatoria, utilizaremos la simulación montecarlo (hacer muchas simulaciones de escenarios de evolución de precios) para obtener probabilidades de que los precios de cierre estén encima de un valor umbral y tomar decisiones con base en estas probabilidades.\n",
    "\n",
    "**Referencias:**\n",
    "- http://pandas.pydata.org/\n",
    "- http://www.learndatasci.com/python-finance-part-yahoo-finance-api-pandas-matplotlib/"
   ]
  },
  {
   "cell_type": "markdown",
   "metadata": {},
   "source": [
    "## 1. Recordemos como descargar datos..."
   ]
  },
  {
   "cell_type": "markdown",
   "metadata": {},
   "source": [
    "Antes que nada, para poder hacer simular escenarios de predicción de precios, vamos a recordar lo que hicimos en la clase pasada de descargar los datos de Yahoo Finance, utilizando el paquete `data` de la librería `pandas_datareader`.\n",
    "\n",
    "Esta vez, utilizaremos los datos de precios de cierre ajustados de activos de la compañía Apple en el año 2016 para nuestra aplicación."
   ]
  },
  {
   "cell_type": "code",
   "execution_count": null,
   "metadata": {},
   "outputs": [],
   "source": [
    "# Instalación del paquete\n",
    "#\n",
    "#!pip install pandas-datareader\n",
    "#!conda install pandas-datareader"
   ]
  },
  {
   "cell_type": "code",
   "execution_count": 1,
   "metadata": {},
   "outputs": [],
   "source": [
    "import pandas_datareader.data as web\n",
    "import pandas as pd\n",
    "import numpy as np\n",
    "import matplotlib.pyplot as plt"
   ]
  },
  {
   "cell_type": "code",
   "execution_count": 2,
   "metadata": {},
   "outputs": [],
   "source": [
    "names=['FB','AAPL','AMZN']\n",
    "start='2016-01-01'\n",
    "end='2021-11-03'"
   ]
  },
  {
   "cell_type": "code",
   "execution_count": 9,
   "metadata": {},
   "outputs": [],
   "source": [
    "def getCloses(name,start,end):\n",
    "    return web.DataReader(name,'yahoo',start,end)['Adj Close'] # Google finance: iex, fred, ff"
   ]
  },
  {
   "cell_type": "code",
   "execution_count": 10,
   "metadata": {},
   "outputs": [
    {
     "data": {
      "text/html": [
       "<div>\n",
       "<style scoped>\n",
       "    .dataframe tbody tr th:only-of-type {\n",
       "        vertical-align: middle;\n",
       "    }\n",
       "\n",
       "    .dataframe tbody tr th {\n",
       "        vertical-align: top;\n",
       "    }\n",
       "\n",
       "    .dataframe thead th {\n",
       "        text-align: right;\n",
       "    }\n",
       "</style>\n",
       "<table border=\"1\" class=\"dataframe\">\n",
       "  <thead>\n",
       "    <tr style=\"text-align: right;\">\n",
       "      <th>Symbols</th>\n",
       "      <th>FB</th>\n",
       "      <th>AAPL</th>\n",
       "      <th>AMZN</th>\n",
       "    </tr>\n",
       "    <tr>\n",
       "      <th>Date</th>\n",
       "      <th></th>\n",
       "      <th></th>\n",
       "      <th></th>\n",
       "    </tr>\n",
       "  </thead>\n",
       "  <tbody>\n",
       "    <tr>\n",
       "      <th>2016-01-04</th>\n",
       "      <td>102.220001</td>\n",
       "      <td>24.286829</td>\n",
       "      <td>636.989990</td>\n",
       "    </tr>\n",
       "    <tr>\n",
       "      <th>2016-01-05</th>\n",
       "      <td>102.730003</td>\n",
       "      <td>23.678217</td>\n",
       "      <td>633.789978</td>\n",
       "    </tr>\n",
       "    <tr>\n",
       "      <th>2016-01-06</th>\n",
       "      <td>102.970001</td>\n",
       "      <td>23.214838</td>\n",
       "      <td>632.650024</td>\n",
       "    </tr>\n",
       "    <tr>\n",
       "      <th>2016-01-07</th>\n",
       "      <td>97.919998</td>\n",
       "      <td>22.235075</td>\n",
       "      <td>607.940002</td>\n",
       "    </tr>\n",
       "    <tr>\n",
       "      <th>2016-01-08</th>\n",
       "      <td>97.330002</td>\n",
       "      <td>22.352644</td>\n",
       "      <td>607.049988</td>\n",
       "    </tr>\n",
       "  </tbody>\n",
       "</table>\n",
       "</div>"
      ],
      "text/plain": [
       "Symbols             FB       AAPL        AMZN\n",
       "Date                                         \n",
       "2016-01-04  102.220001  24.286829  636.989990\n",
       "2016-01-05  102.730003  23.678217  633.789978\n",
       "2016-01-06  102.970001  23.214838  632.650024\n",
       "2016-01-07   97.919998  22.235075  607.940002\n",
       "2016-01-08   97.330002  22.352644  607.049988"
      ]
     },
     "execution_count": 10,
     "metadata": {},
     "output_type": "execute_result"
    }
   ],
   "source": [
    "data=getCloses(names,start,end)\n",
    "data.head()"
   ]
  },
  {
   "cell_type": "code",
   "execution_count": 5,
   "metadata": {},
   "outputs": [
    {
     "data": {
      "text/html": [
       "<div>\n",
       "<style scoped>\n",
       "    .dataframe tbody tr th:only-of-type {\n",
       "        vertical-align: middle;\n",
       "    }\n",
       "\n",
       "    .dataframe tbody tr th {\n",
       "        vertical-align: top;\n",
       "    }\n",
       "\n",
       "    .dataframe thead th {\n",
       "        text-align: right;\n",
       "    }\n",
       "</style>\n",
       "<table border=\"1\" class=\"dataframe\">\n",
       "  <thead>\n",
       "    <tr style=\"text-align: right;\">\n",
       "      <th>Symbols</th>\n",
       "      <th>FB</th>\n",
       "      <th>AAPL</th>\n",
       "      <th>AMZN</th>\n",
       "    </tr>\n",
       "  </thead>\n",
       "  <tbody>\n",
       "    <tr>\n",
       "      <th>count</th>\n",
       "      <td>1471.000000</td>\n",
       "      <td>1471.000000</td>\n",
       "      <td>1471.000000</td>\n",
       "    </tr>\n",
       "    <tr>\n",
       "      <th>mean</th>\n",
       "      <td>193.429477</td>\n",
       "      <td>62.724329</td>\n",
       "      <td>1811.091025</td>\n",
       "    </tr>\n",
       "    <tr>\n",
       "      <th>std</th>\n",
       "      <td>67.275845</td>\n",
       "      <td>38.966693</td>\n",
       "      <td>928.791232</td>\n",
       "    </tr>\n",
       "    <tr>\n",
       "      <th>min</th>\n",
       "      <td>94.160004</td>\n",
       "      <td>21.066999</td>\n",
       "      <td>482.070007</td>\n",
       "    </tr>\n",
       "    <tr>\n",
       "      <th>25%</th>\n",
       "      <td>144.224998</td>\n",
       "      <td>35.664841</td>\n",
       "      <td>965.024994</td>\n",
       "    </tr>\n",
       "    <tr>\n",
       "      <th>50%</th>\n",
       "      <td>178.169998</td>\n",
       "      <td>46.154705</td>\n",
       "      <td>1732.660034</td>\n",
       "    </tr>\n",
       "    <tr>\n",
       "      <th>75%</th>\n",
       "      <td>222.684998</td>\n",
       "      <td>79.851624</td>\n",
       "      <td>2431.569946</td>\n",
       "    </tr>\n",
       "    <tr>\n",
       "      <th>max</th>\n",
       "      <td>382.179993</td>\n",
       "      <td>156.690002</td>\n",
       "      <td>3731.409912</td>\n",
       "    </tr>\n",
       "  </tbody>\n",
       "</table>\n",
       "</div>"
      ],
      "text/plain": [
       "Symbols           FB         AAPL         AMZN\n",
       "count    1471.000000  1471.000000  1471.000000\n",
       "mean      193.429477    62.724329  1811.091025\n",
       "std        67.275845    38.966693   928.791232\n",
       "min        94.160004    21.066999   482.070007\n",
       "25%       144.224998    35.664841   965.024994\n",
       "50%       178.169998    46.154705  1732.660034\n",
       "75%       222.684998    79.851624  2431.569946\n",
       "max       382.179993   156.690002  3731.409912"
      ]
     },
     "execution_count": 5,
     "metadata": {},
     "output_type": "execute_result"
    }
   ],
   "source": [
    "data.describe()"
   ]
  },
  {
   "cell_type": "code",
   "execution_count": 6,
   "metadata": {},
   "outputs": [
    {
     "data": {
      "text/plain": [
       "<AxesSubplot:xlabel='Date'>"
      ]
     },
     "execution_count": 6,
     "metadata": {},
     "output_type": "execute_result"
    },
    {
     "data": {
      "image/png": "[encoded data removed]",
      "text/plain": [
       "<Figure size 432x288 with 1 Axes>"
      ]
     },
     "metadata": {
      "needs_background": "light"
     },
     "output_type": "display_data"
    }
   ],
   "source": [
    "data.plot(grid=True)"
   ]
  },
  {
   "cell_type": "code",
   "execution_count": 11,
   "metadata": {},
   "outputs": [
    {
     "data": {
      "image/png": "[encoded data removed]",
      "text/plain": [
       "<Figure size 720x504 with 4 Axes>"
      ]
     },
     "metadata": {
      "needs_background": "light"
     },
     "output_type": "display_data"
    }
   ],
   "source": [
    "H=data.hist(bins=50,figsize=(10,7))"
   ]
  },
  {
   "cell_type": "markdown",
   "metadata": {},
   "source": [
    "## 2. Simulación de rendimientos diarios\n",
    "\n",
    "Recordemos que los precios diarios de cierre ajustados no son un proceso estocástico estacionario, pero los rendimientos diarios si lo son. Por tanto calculamos los rendimientos a partir de los precios de cierre, obtenemos sus propiedades estadísticas muestrales y proyectamos los rendimientos. Luego, obtenemos la proyección de los precios.\n",
    "\n",
    "Para una sucesión de precios $\\{S_t\\}_{t=0}^{n}$, el rendimiento simple $R_t$ se define como el cambio porcentual\n",
    "\n",
    "$$\n",
    "R_t=\\frac{S_t-S_{t-1}}{S_{t-1}}\\approx \\ln\\left(\\frac{S_t}{S_{t-1}}\\right)=r_t.\n",
    "$$\n",
    "para $t=1,\\ldots,n$.\n",
    "\n",
    "Para el ejemplo en curso, ¿cómo calcular esto?"
   ]
  },
  {
   "cell_type": "markdown",
   "metadata": {},
   "source": [
    "Además, supusimos que los rendimientos diarios eran una variable aleatoria con distribución normal (que se caracteriza con su media y varianza). Por tanto obtenemos la media y desviación estandar muestrales. Hagamos una función que retorne lo anterior."
   ]
  },
  {
   "cell_type": "code",
   "execution_count": 12,
   "metadata": {},
   "outputs": [],
   "source": [
    "data.shift?"
   ]
  },
  {
   "cell_type": "code",
   "execution_count": 13,
   "metadata": {},
   "outputs": [],
   "source": [
    "R=((data-data.shift())/data.shift()).dropna()\n",
    "r=np.log(data/data.shift()).dropna()"
   ]
  },
  {
   "cell_type": "code",
   "execution_count": 14,
   "metadata": {},
   "outputs": [
    {
     "data": {
      "text/plain": [
       "<AxesSubplot:xlabel='Date'>"
      ]
     },
     "execution_count": 14,
     "metadata": {},
     "output_type": "execute_result"
    },
    {
     "data": {
      "image/png": "[encoded data removed]",
      "text/plain": [
       "<Figure size 432x288 with 1 Axes>"
      ]
     },
     "metadata": {
      "needs_background": "light"
     },
     "output_type": "display_data"
    },
    {
     "data": {
      "image/png": "[encoded data removed]",
      "text/plain": [
       "<Figure size 432x288 with 1 Axes>"
      ]
     },
     "metadata": {
      "needs_background": "light"
     },
     "output_type": "display_data"
    }
   ],
   "source": [
    "R.plot(grid=True)\n",
    "r.plot(grid=True)"
   ]
  },
  {
   "cell_type": "code",
   "execution_count": 17,
   "metadata": {},
   "outputs": [
    {
     "data": {
      "image/png": "[encoded data removed]",
      "text/plain": [
       "<Figure size 720x504 with 4 Axes>"
      ]
     },
     "metadata": {
      "needs_background": "light"
     },
     "output_type": "display_data"
    }
   ],
   "source": [
    "H=R.hist(bins=50,figsize=(10,7))"
   ]
  },
  {
   "cell_type": "code",
   "execution_count": 16,
   "metadata": {},
   "outputs": [
    {
     "data": {
      "text/html": [
       "<div>\n",
       "<style scoped>\n",
       "    .dataframe tbody tr th:only-of-type {\n",
       "        vertical-align: middle;\n",
       "    }\n",
       "\n",
       "    .dataframe tbody tr th {\n",
       "        vertical-align: top;\n",
       "    }\n",
       "\n",
       "    .dataframe thead th {\n",
       "        text-align: right;\n",
       "    }\n",
       "</style>\n",
       "<table border=\"1\" class=\"dataframe\">\n",
       "  <thead>\n",
       "    <tr style=\"text-align: right;\">\n",
       "      <th>Symbols</th>\n",
       "      <th>FB</th>\n",
       "      <th>AAPL</th>\n",
       "      <th>AMZN</th>\n",
       "    </tr>\n",
       "  </thead>\n",
       "  <tbody>\n",
       "    <tr>\n",
       "      <th>count</th>\n",
       "      <td>1470.000000</td>\n",
       "      <td>1470.000000</td>\n",
       "      <td>1470.000000</td>\n",
       "    </tr>\n",
       "    <tr>\n",
       "      <th>mean</th>\n",
       "      <td>0.001011</td>\n",
       "      <td>0.001418</td>\n",
       "      <td>0.001308</td>\n",
       "    </tr>\n",
       "    <tr>\n",
       "      <th>std</th>\n",
       "      <td>0.020433</td>\n",
       "      <td>0.018549</td>\n",
       "      <td>0.018564</td>\n",
       "    </tr>\n",
       "    <tr>\n",
       "      <th>min</th>\n",
       "      <td>-0.189609</td>\n",
       "      <td>-0.128647</td>\n",
       "      <td>-0.079221</td>\n",
       "    </tr>\n",
       "    <tr>\n",
       "      <th>25%</th>\n",
       "      <td>-0.007715</td>\n",
       "      <td>-0.006409</td>\n",
       "      <td>-0.007046</td>\n",
       "    </tr>\n",
       "    <tr>\n",
       "      <th>50%</th>\n",
       "      <td>0.001161</td>\n",
       "      <td>0.001120</td>\n",
       "      <td>0.001451</td>\n",
       "    </tr>\n",
       "    <tr>\n",
       "      <th>75%</th>\n",
       "      <td>0.011285</td>\n",
       "      <td>0.010197</td>\n",
       "      <td>0.010429</td>\n",
       "    </tr>\n",
       "    <tr>\n",
       "      <th>max</th>\n",
       "      <td>0.155214</td>\n",
       "      <td>0.119808</td>\n",
       "      <td>0.132164</td>\n",
       "    </tr>\n",
       "  </tbody>\n",
       "</table>\n",
       "</div>"
      ],
      "text/plain": [
       "Symbols           FB         AAPL         AMZN\n",
       "count    1470.000000  1470.000000  1470.000000\n",
       "mean        0.001011     0.001418     0.001308\n",
       "std         0.020433     0.018549     0.018564\n",
       "min        -0.189609    -0.128647    -0.079221\n",
       "25%        -0.007715    -0.006409    -0.007046\n",
       "50%         0.001161     0.001120     0.001451\n",
       "75%         0.011285     0.010197     0.010429\n",
       "max         0.155214     0.119808     0.132164"
      ]
     },
     "execution_count": 16,
     "metadata": {},
     "output_type": "execute_result"
    }
   ],
   "source": [
    "R.describe()"
   ]
  },
  {
   "cell_type": "markdown",
   "metadata": {},
   "source": [
    "Entonces, suponemos que el cambio porcentual de los precios (rendimientos diarios) tiene una distribución normal.\n",
    "\n",
    "¿Cómo se caracteriza una [distribución normal](https://es.wikipedia.org/wiki/Distribuci%C3%B3n_normal)?"
   ]
  },
  {
   "cell_type": "code",
   "execution_count": 18,
   "metadata": {},
   "outputs": [
    {
     "data": {
      "text/plain": [
       "(0.001010814194695907, 0.020432747951565706)"
      ]
     },
     "execution_count": 18,
     "metadata": {},
     "output_type": "execute_result"
    }
   ],
   "source": [
    "# Asumimos que los rendimientos presentan una distribución Normal\n",
    "mFB=R['FB'].mean()\n",
    "sFB=R['FB'].std()\n",
    "mFB,sFB"
   ]
  },
  {
   "cell_type": "code",
   "execution_count": 31,
   "metadata": {},
   "outputs": [
    {
     "data": {
      "image/png": "[encoded data removed]",
      "text/plain": [
       "<Figure size 432x288 with 1 Axes>"
      ]
     },
     "metadata": {
      "needs_background": "light"
     },
     "output_type": "display_data"
    }
   ],
   "source": [
    "R_FB=np.random.normal(mFB,sFB,size=(365,3)) # Se simulan 3 escenarios para 365 días\n",
    "plt.plot(R_FB)\n",
    "plt.grid()"
   ]
  },
  {
   "cell_type": "code",
   "execution_count": 32,
   "metadata": {},
   "outputs": [],
   "source": [
    "pd.date_range?"
   ]
  },
  {
   "cell_type": "code",
   "execution_count": 33,
   "metadata": {},
   "outputs": [
    {
     "data": {
      "text/html": [
       "<div>\n",
       "<style scoped>\n",
       "    .dataframe tbody tr th:only-of-type {\n",
       "        vertical-align: middle;\n",
       "    }\n",
       "\n",
       "    .dataframe tbody tr th {\n",
       "        vertical-align: top;\n",
       "    }\n",
       "\n",
       "    .dataframe thead th {\n",
       "        text-align: right;\n",
       "    }\n",
       "</style>\n",
       "<table border=\"1\" class=\"dataframe\">\n",
       "  <thead>\n",
       "    <tr style=\"text-align: right;\">\n",
       "      <th></th>\n",
       "      <th>0</th>\n",
       "      <th>1</th>\n",
       "      <th>2</th>\n",
       "    </tr>\n",
       "  </thead>\n",
       "  <tbody>\n",
       "    <tr>\n",
       "      <th>2021-11-04</th>\n",
       "      <td>-0.000529</td>\n",
       "      <td>-0.013799</td>\n",
       "      <td>-0.026602</td>\n",
       "    </tr>\n",
       "    <tr>\n",
       "      <th>2021-11-05</th>\n",
       "      <td>-0.023647</td>\n",
       "      <td>0.017111</td>\n",
       "      <td>-0.023551</td>\n",
       "    </tr>\n",
       "    <tr>\n",
       "      <th>2021-11-06</th>\n",
       "      <td>0.014728</td>\n",
       "      <td>0.005150</td>\n",
       "      <td>-0.015888</td>\n",
       "    </tr>\n",
       "    <tr>\n",
       "      <th>2021-11-07</th>\n",
       "      <td>-0.007848</td>\n",
       "      <td>-0.029434</td>\n",
       "      <td>0.009646</td>\n",
       "    </tr>\n",
       "    <tr>\n",
       "      <th>2021-11-08</th>\n",
       "      <td>-0.019024</td>\n",
       "      <td>0.028807</td>\n",
       "      <td>0.004232</td>\n",
       "    </tr>\n",
       "  </tbody>\n",
       "</table>\n",
       "</div>"
      ],
      "text/plain": [
       "                   0         1         2\n",
       "2021-11-04 -0.000529 -0.013799 -0.026602\n",
       "2021-11-05 -0.023647  0.017111 -0.023551\n",
       "2021-11-06  0.014728  0.005150 -0.015888\n",
       "2021-11-07 -0.007848 -0.029434  0.009646\n",
       "2021-11-08 -0.019024  0.028807  0.004232"
      ]
     },
     "execution_count": 33,
     "metadata": {},
     "output_type": "execute_result"
    }
   ],
   "source": [
    "fechas=pd.date_range('2021-11-04',periods=365)\n",
    "R_FB=pd.DataFrame(data=R_FB,index=fechas)\n",
    "R_FB.head()"
   ]
  },
  {
   "cell_type": "markdown",
   "metadata": {},
   "source": [
    "Habiendo caracterizado los rendimientos diarios como una variable aleatoria normal con la media y la varianza muestral obtenida de los datos del 2018, podemos generar números aleatorios con estas características para simular el comportamiento de los precios de cierre de las acciones en el 2019 (hay un supuesto de que las cosas no cambiarán fundamentalmente).\n",
    "\n",
    "Sin embargo, cada simulación que hagamos nos conducirá a distintos resultados (los precios siguen evolucionando aleatoriamente). Entonces, lo que haremos es simular varios escenarios para así ver alguna tendencia y tomar decisiones.\n",
    "\n",
    "Hagamos una una función que simule varios escenarios de rendimientos diarios y que devuelva un dataframe con esta simulación."
   ]
  },
  {
   "cell_type": "code",
   "execution_count": 45,
   "metadata": {},
   "outputs": [],
   "source": [
    "def simR(m,s,start,dias,N):\n",
    "    return pd.DataFrame(data=np.random.normal(m,s,size=(dias,N)),\n",
    "                        index=pd.date_range(start,periods=dias))\n",
    "N=1000\n",
    "start='2021-11-04'\n",
    "dias=365\n",
    "\n",
    "R_FB=simR(R['FB'].mean(),R['FB'].std(),start,dias,N)\n",
    "R_AAPL=simR(R['AAPL'].mean(),R['AAPL'].std(),start,dias,N)\n",
    "R_AMZN=simR(R['AMZN'].mean(),R['AMZN'].std(),start,dias,N)"
   ]
  },
  {
   "cell_type": "code",
   "execution_count": 35,
   "metadata": {},
   "outputs": [
    {
     "data": {
      "text/html": [
       "<div>\n",
       "<style scoped>\n",
       "    .dataframe tbody tr th:only-of-type {\n",
       "        vertical-align: middle;\n",
       "    }\n",
       "\n",
       "    .dataframe tbody tr th {\n",
       "        vertical-align: top;\n",
       "    }\n",
       "\n",
       "    .dataframe thead th {\n",
       "        text-align: right;\n",
       "    }\n",
       "</style>\n",
       "<table border=\"1\" class=\"dataframe\">\n",
       "  <thead>\n",
       "    <tr style=\"text-align: right;\">\n",
       "      <th></th>\n",
       "      <th>0</th>\n",
       "      <th>1</th>\n",
       "      <th>2</th>\n",
       "      <th>3</th>\n",
       "      <th>4</th>\n",
       "      <th>5</th>\n",
       "      <th>6</th>\n",
       "      <th>7</th>\n",
       "      <th>8</th>\n",
       "      <th>9</th>\n",
       "      <th>...</th>\n",
       "      <th>90</th>\n",
       "      <th>91</th>\n",
       "      <th>92</th>\n",
       "      <th>93</th>\n",
       "      <th>94</th>\n",
       "      <th>95</th>\n",
       "      <th>96</th>\n",
       "      <th>97</th>\n",
       "      <th>98</th>\n",
       "      <th>99</th>\n",
       "    </tr>\n",
       "  </thead>\n",
       "  <tbody>\n",
       "    <tr>\n",
       "      <th>2021-11-04</th>\n",
       "      <td>-0.020418</td>\n",
       "      <td>0.006566</td>\n",
       "      <td>0.039519</td>\n",
       "      <td>0.052896</td>\n",
       "      <td>0.037119</td>\n",
       "      <td>0.035667</td>\n",
       "      <td>0.028343</td>\n",
       "      <td>-0.009326</td>\n",
       "      <td>0.010822</td>\n",
       "      <td>0.034486</td>\n",
       "      <td>...</td>\n",
       "      <td>0.008141</td>\n",
       "      <td>-0.00913</td>\n",
       "      <td>0.019275</td>\n",
       "      <td>0.021718</td>\n",
       "      <td>0.021657</td>\n",
       "      <td>0.022838</td>\n",
       "      <td>-0.001515</td>\n",
       "      <td>-0.002845</td>\n",
       "      <td>-0.008345</td>\n",
       "      <td>0.000980</td>\n",
       "    </tr>\n",
       "    <tr>\n",
       "      <th>2021-11-05</th>\n",
       "      <td>0.019358</td>\n",
       "      <td>-0.000650</td>\n",
       "      <td>0.011192</td>\n",
       "      <td>-0.031412</td>\n",
       "      <td>0.001712</td>\n",
       "      <td>-0.009026</td>\n",
       "      <td>-0.007381</td>\n",
       "      <td>0.007620</td>\n",
       "      <td>0.010822</td>\n",
       "      <td>-0.024186</td>\n",
       "      <td>...</td>\n",
       "      <td>0.012168</td>\n",
       "      <td>0.01412</td>\n",
       "      <td>-0.024001</td>\n",
       "      <td>0.014886</td>\n",
       "      <td>0.021415</td>\n",
       "      <td>-0.005924</td>\n",
       "      <td>-0.048384</td>\n",
       "      <td>-0.011845</td>\n",
       "      <td>-0.003669</td>\n",
       "      <td>-0.014315</td>\n",
       "    </tr>\n",
       "  </tbody>\n",
       "</table>\n",
       "<p>2 rows × 100 columns</p>\n",
       "</div>"
      ],
      "text/plain": [
       "                  0         1         2         3         4         5   \\\n",
       "2021-11-04 -0.020418  0.006566  0.039519  0.052896  0.037119  0.035667   \n",
       "2021-11-05  0.019358 -0.000650  0.011192 -0.031412  0.001712 -0.009026   \n",
       "\n",
       "                  6         7         8         9   ...        90       91  \\\n",
       "2021-11-04  0.028343 -0.009326  0.010822  0.034486  ...  0.008141 -0.00913   \n",
       "2021-11-05 -0.007381  0.007620  0.010822 -0.024186  ...  0.012168  0.01412   \n",
       "\n",
       "                  92        93        94        95        96        97  \\\n",
       "2021-11-04  0.019275  0.021718  0.021657  0.022838 -0.001515 -0.002845   \n",
       "2021-11-05 -0.024001  0.014886  0.021415 -0.005924 -0.048384 -0.011845   \n",
       "\n",
       "                  98        99  \n",
       "2021-11-04 -0.008345  0.000980  \n",
       "2021-11-05 -0.003669 -0.014315  \n",
       "\n",
       "[2 rows x 100 columns]"
      ]
     },
     "execution_count": 35,
     "metadata": {},
     "output_type": "execute_result"
    }
   ],
   "source": [
    "R_FB.head(2)"
   ]
  },
  {
   "cell_type": "markdown",
   "metadata": {},
   "source": [
    "## 3. Proyección de precios de cierre"
   ]
  },
  {
   "cell_type": "markdown",
   "metadata": {},
   "source": [
    "Por tanto, para calcular los precios, tenemos:\n",
    "\n",
    "$$\\begin{align}\n",
    "p_i&=p_{i-1}(R_i+1)\\\\\n",
    "p_{i+1}&=p_i(R_{i+1}+1)=p_{i-1}(R_i+1)(R_{i+1}+1)\\\\\n",
    "&\\vdots\\\\\n",
    "p_{i+k}&=p_{i-1}(R_i+1)\\cdots(R_{i+k}+1).\n",
    "\\end{align}$$\n",
    "\n",
    "Si hacemos $i=0$ en la última ecuación, tenemos que $p_{k}=p_{-1}(R_0+1)\\cdots(R_{k}+1)$, donde $p_{-1}$ es el último precio reportado en el 2018."
   ]
  },
  {
   "cell_type": "markdown",
   "metadata": {},
   "source": [
    "Con los rendimientos, calculamos los precios de cierre..."
   ]
  },
  {
   "cell_type": "code",
   "execution_count": 39,
   "metadata": {},
   "outputs": [
    {
     "data": {
      "text/html": [
       "<div>\n",
       "<style scoped>\n",
       "    .dataframe tbody tr th:only-of-type {\n",
       "        vertical-align: middle;\n",
       "    }\n",
       "\n",
       "    .dataframe tbody tr th {\n",
       "        vertical-align: top;\n",
       "    }\n",
       "\n",
       "    .dataframe thead th {\n",
       "        text-align: right;\n",
       "    }\n",
       "</style>\n",
       "<table border=\"1\" class=\"dataframe\">\n",
       "  <thead>\n",
       "    <tr style=\"text-align: right;\">\n",
       "      <th></th>\n",
       "      <th>0</th>\n",
       "      <th>1</th>\n",
       "      <th>2</th>\n",
       "      <th>3</th>\n",
       "      <th>4</th>\n",
       "      <th>5</th>\n",
       "      <th>6</th>\n",
       "      <th>7</th>\n",
       "      <th>8</th>\n",
       "      <th>9</th>\n",
       "      <th>...</th>\n",
       "      <th>90</th>\n",
       "      <th>91</th>\n",
       "      <th>92</th>\n",
       "      <th>93</th>\n",
       "      <th>94</th>\n",
       "      <th>95</th>\n",
       "      <th>96</th>\n",
       "      <th>97</th>\n",
       "      <th>98</th>\n",
       "      <th>99</th>\n",
       "    </tr>\n",
       "  </thead>\n",
       "  <tbody>\n",
       "    <tr>\n",
       "      <th>2021-11-04</th>\n",
       "      <td>0.979582</td>\n",
       "      <td>1.006566</td>\n",
       "      <td>1.039519</td>\n",
       "      <td>1.052896</td>\n",
       "      <td>1.037119</td>\n",
       "      <td>1.035667</td>\n",
       "      <td>1.028343</td>\n",
       "      <td>0.990674</td>\n",
       "      <td>1.010822</td>\n",
       "      <td>1.034486</td>\n",
       "      <td>...</td>\n",
       "      <td>1.008141</td>\n",
       "      <td>0.990870</td>\n",
       "      <td>1.019275</td>\n",
       "      <td>1.021718</td>\n",
       "      <td>1.021657</td>\n",
       "      <td>1.022838</td>\n",
       "      <td>0.998485</td>\n",
       "      <td>0.997155</td>\n",
       "      <td>0.991655</td>\n",
       "      <td>1.000980</td>\n",
       "    </tr>\n",
       "    <tr>\n",
       "      <th>2021-11-05</th>\n",
       "      <td>1.019358</td>\n",
       "      <td>0.999350</td>\n",
       "      <td>1.011192</td>\n",
       "      <td>0.968588</td>\n",
       "      <td>1.001712</td>\n",
       "      <td>0.990974</td>\n",
       "      <td>0.992619</td>\n",
       "      <td>1.007620</td>\n",
       "      <td>1.010822</td>\n",
       "      <td>0.975814</td>\n",
       "      <td>...</td>\n",
       "      <td>1.012168</td>\n",
       "      <td>1.014120</td>\n",
       "      <td>0.975999</td>\n",
       "      <td>1.014886</td>\n",
       "      <td>1.021415</td>\n",
       "      <td>0.994076</td>\n",
       "      <td>0.951616</td>\n",
       "      <td>0.988155</td>\n",
       "      <td>0.996331</td>\n",
       "      <td>0.985685</td>\n",
       "    </tr>\n",
       "    <tr>\n",
       "      <th>2021-11-06</th>\n",
       "      <td>1.025475</td>\n",
       "      <td>0.980804</td>\n",
       "      <td>0.982444</td>\n",
       "      <td>0.998013</td>\n",
       "      <td>0.974582</td>\n",
       "      <td>1.050717</td>\n",
       "      <td>1.013936</td>\n",
       "      <td>0.989769</td>\n",
       "      <td>0.960802</td>\n",
       "      <td>1.017286</td>\n",
       "      <td>...</td>\n",
       "      <td>1.021387</td>\n",
       "      <td>1.019771</td>\n",
       "      <td>1.023583</td>\n",
       "      <td>0.997478</td>\n",
       "      <td>0.981707</td>\n",
       "      <td>1.018898</td>\n",
       "      <td>0.993454</td>\n",
       "      <td>0.988327</td>\n",
       "      <td>1.010512</td>\n",
       "      <td>1.018982</td>\n",
       "    </tr>\n",
       "    <tr>\n",
       "      <th>2021-11-07</th>\n",
       "      <td>0.981065</td>\n",
       "      <td>0.980152</td>\n",
       "      <td>0.975686</td>\n",
       "      <td>0.998013</td>\n",
       "      <td>0.980033</td>\n",
       "      <td>1.005161</td>\n",
       "      <td>1.002877</td>\n",
       "      <td>1.000028</td>\n",
       "      <td>1.001299</td>\n",
       "      <td>1.001597</td>\n",
       "      <td>...</td>\n",
       "      <td>1.005707</td>\n",
       "      <td>0.984206</td>\n",
       "      <td>1.031008</td>\n",
       "      <td>0.994873</td>\n",
       "      <td>0.993191</td>\n",
       "      <td>1.010471</td>\n",
       "      <td>0.972175</td>\n",
       "      <td>1.022945</td>\n",
       "      <td>0.993847</td>\n",
       "      <td>0.977054</td>\n",
       "    </tr>\n",
       "    <tr>\n",
       "      <th>2021-11-08</th>\n",
       "      <td>0.977763</td>\n",
       "      <td>1.028254</td>\n",
       "      <td>1.013135</td>\n",
       "      <td>0.986347</td>\n",
       "      <td>0.971493</td>\n",
       "      <td>0.985237</td>\n",
       "      <td>0.996371</td>\n",
       "      <td>1.021764</td>\n",
       "      <td>1.039313</td>\n",
       "      <td>0.969495</td>\n",
       "      <td>...</td>\n",
       "      <td>1.005560</td>\n",
       "      <td>1.003688</td>\n",
       "      <td>1.005314</td>\n",
       "      <td>0.975944</td>\n",
       "      <td>0.998962</td>\n",
       "      <td>1.019363</td>\n",
       "      <td>0.974985</td>\n",
       "      <td>1.004530</td>\n",
       "      <td>1.019246</td>\n",
       "      <td>0.996504</td>\n",
       "    </tr>\n",
       "  </tbody>\n",
       "</table>\n",
       "<p>5 rows × 100 columns</p>\n",
       "</div>"
      ],
      "text/plain": [
       "                  0         1         2         3         4         5   \\\n",
       "2021-11-04  0.979582  1.006566  1.039519  1.052896  1.037119  1.035667   \n",
       "2021-11-05  1.019358  0.999350  1.011192  0.968588  1.001712  0.990974   \n",
       "2021-11-06  1.025475  0.980804  0.982444  0.998013  0.974582  1.050717   \n",
       "2021-11-07  0.981065  0.980152  0.975686  0.998013  0.980033  1.005161   \n",
       "2021-11-08  0.977763  1.028254  1.013135  0.986347  0.971493  0.985237   \n",
       "\n",
       "                  6         7         8         9   ...        90        91  \\\n",
       "2021-11-04  1.028343  0.990674  1.010822  1.034486  ...  1.008141  0.990870   \n",
       "2021-11-05  0.992619  1.007620  1.010822  0.975814  ...  1.012168  1.014120   \n",
       "2021-11-06  1.013936  0.989769  0.960802  1.017286  ...  1.021387  1.019771   \n",
       "2021-11-07  1.002877  1.000028  1.001299  1.001597  ...  1.005707  0.984206   \n",
       "2021-11-08  0.996371  1.021764  1.039313  0.969495  ...  1.005560  1.003688   \n",
       "\n",
       "                  92        93        94        95        96        97  \\\n",
       "2021-11-04  1.019275  1.021718  1.021657  1.022838  0.998485  0.997155   \n",
       "2021-11-05  0.975999  1.014886  1.021415  0.994076  0.951616  0.988155   \n",
       "2021-11-06  1.023583  0.997478  0.981707  1.018898  0.993454  0.988327   \n",
       "2021-11-07  1.031008  0.994873  0.993191  1.010471  0.972175  1.022945   \n",
       "2021-11-08  1.005314  0.975944  0.998962  1.019363  0.974985  1.004530   \n",
       "\n",
       "                  98        99  \n",
       "2021-11-04  0.991655  1.000980  \n",
       "2021-11-05  0.996331  0.985685  \n",
       "2021-11-06  1.010512  1.018982  \n",
       "2021-11-07  0.993847  0.977054  \n",
       "2021-11-08  1.019246  0.996504  \n",
       "\n",
       "[5 rows x 100 columns]"
      ]
     },
     "execution_count": 39,
     "metadata": {},
     "output_type": "execute_result"
    }
   ],
   "source": [
    "(R_FB+1).head()"
   ]
  },
  {
   "cell_type": "code",
   "execution_count": 38,
   "metadata": {},
   "outputs": [
    {
     "data": {
      "text/html": [
       "<div>\n",
       "<style scoped>\n",
       "    .dataframe tbody tr th:only-of-type {\n",
       "        vertical-align: middle;\n",
       "    }\n",
       "\n",
       "    .dataframe tbody tr th {\n",
       "        vertical-align: top;\n",
       "    }\n",
       "\n",
       "    .dataframe thead th {\n",
       "        text-align: right;\n",
       "    }\n",
       "</style>\n",
       "<table border=\"1\" class=\"dataframe\">\n",
       "  <thead>\n",
       "    <tr style=\"text-align: right;\">\n",
       "      <th></th>\n",
       "      <th>0</th>\n",
       "      <th>1</th>\n",
       "      <th>2</th>\n",
       "      <th>3</th>\n",
       "      <th>4</th>\n",
       "      <th>5</th>\n",
       "      <th>6</th>\n",
       "      <th>7</th>\n",
       "      <th>8</th>\n",
       "      <th>9</th>\n",
       "      <th>...</th>\n",
       "      <th>90</th>\n",
       "      <th>91</th>\n",
       "      <th>92</th>\n",
       "      <th>93</th>\n",
       "      <th>94</th>\n",
       "      <th>95</th>\n",
       "      <th>96</th>\n",
       "      <th>97</th>\n",
       "      <th>98</th>\n",
       "      <th>99</th>\n",
       "    </tr>\n",
       "  </thead>\n",
       "  <tbody>\n",
       "    <tr>\n",
       "      <th>2021-11-04</th>\n",
       "      <td>0.979582</td>\n",
       "      <td>1.006566</td>\n",
       "      <td>1.039519</td>\n",
       "      <td>1.052896</td>\n",
       "      <td>1.037119</td>\n",
       "      <td>1.035667</td>\n",
       "      <td>1.028343</td>\n",
       "      <td>0.990674</td>\n",
       "      <td>1.010822</td>\n",
       "      <td>1.034486</td>\n",
       "      <td>...</td>\n",
       "      <td>1.008141</td>\n",
       "      <td>0.990870</td>\n",
       "      <td>1.019275</td>\n",
       "      <td>1.021718</td>\n",
       "      <td>1.021657</td>\n",
       "      <td>1.022838</td>\n",
       "      <td>0.998485</td>\n",
       "      <td>0.997155</td>\n",
       "      <td>0.991655</td>\n",
       "      <td>1.000980</td>\n",
       "    </tr>\n",
       "    <tr>\n",
       "      <th>2021-11-05</th>\n",
       "      <td>0.998545</td>\n",
       "      <td>1.005911</td>\n",
       "      <td>1.051153</td>\n",
       "      <td>1.019823</td>\n",
       "      <td>1.038894</td>\n",
       "      <td>1.026319</td>\n",
       "      <td>1.020752</td>\n",
       "      <td>0.998223</td>\n",
       "      <td>1.021761</td>\n",
       "      <td>1.009466</td>\n",
       "      <td>...</td>\n",
       "      <td>1.020408</td>\n",
       "      <td>1.004862</td>\n",
       "      <td>0.994812</td>\n",
       "      <td>1.036927</td>\n",
       "      <td>1.043536</td>\n",
       "      <td>1.016779</td>\n",
       "      <td>0.950174</td>\n",
       "      <td>0.985343</td>\n",
       "      <td>0.988016</td>\n",
       "      <td>0.986651</td>\n",
       "    </tr>\n",
       "    <tr>\n",
       "      <th>2021-11-06</th>\n",
       "      <td>1.023982</td>\n",
       "      <td>0.986602</td>\n",
       "      <td>1.032699</td>\n",
       "      <td>1.017797</td>\n",
       "      <td>1.012488</td>\n",
       "      <td>1.078370</td>\n",
       "      <td>1.034977</td>\n",
       "      <td>0.988010</td>\n",
       "      <td>0.981710</td>\n",
       "      <td>1.026916</td>\n",
       "      <td>...</td>\n",
       "      <td>1.042231</td>\n",
       "      <td>1.024729</td>\n",
       "      <td>1.018272</td>\n",
       "      <td>1.034312</td>\n",
       "      <td>1.024447</td>\n",
       "      <td>1.035994</td>\n",
       "      <td>0.943954</td>\n",
       "      <td>0.973841</td>\n",
       "      <td>0.998402</td>\n",
       "      <td>1.005379</td>\n",
       "    </tr>\n",
       "    <tr>\n",
       "      <th>2021-11-07</th>\n",
       "      <td>1.004594</td>\n",
       "      <td>0.967020</td>\n",
       "      <td>1.007590</td>\n",
       "      <td>1.015775</td>\n",
       "      <td>0.992271</td>\n",
       "      <td>1.083935</td>\n",
       "      <td>1.037955</td>\n",
       "      <td>0.988038</td>\n",
       "      <td>0.982985</td>\n",
       "      <td>1.028556</td>\n",
       "      <td>...</td>\n",
       "      <td>1.048179</td>\n",
       "      <td>1.008545</td>\n",
       "      <td>1.049847</td>\n",
       "      <td>1.029009</td>\n",
       "      <td>1.017472</td>\n",
       "      <td>1.046841</td>\n",
       "      <td>0.917689</td>\n",
       "      <td>0.996185</td>\n",
       "      <td>0.992259</td>\n",
       "      <td>0.982310</td>\n",
       "    </tr>\n",
       "    <tr>\n",
       "      <th>2021-11-08</th>\n",
       "      <td>0.982254</td>\n",
       "      <td>0.994342</td>\n",
       "      <td>1.020825</td>\n",
       "      <td>1.001906</td>\n",
       "      <td>0.963984</td>\n",
       "      <td>1.067934</td>\n",
       "      <td>1.034189</td>\n",
       "      <td>1.009542</td>\n",
       "      <td>1.021629</td>\n",
       "      <td>0.997180</td>\n",
       "      <td>...</td>\n",
       "      <td>1.054008</td>\n",
       "      <td>1.012265</td>\n",
       "      <td>1.055426</td>\n",
       "      <td>1.004256</td>\n",
       "      <td>1.016416</td>\n",
       "      <td>1.067111</td>\n",
       "      <td>0.894733</td>\n",
       "      <td>1.000698</td>\n",
       "      <td>1.011356</td>\n",
       "      <td>0.978876</td>\n",
       "    </tr>\n",
       "  </tbody>\n",
       "</table>\n",
       "<p>5 rows × 100 columns</p>\n",
       "</div>"
      ],
      "text/plain": [
       "                  0         1         2         3         4         5   \\\n",
       "2021-11-04  0.979582  1.006566  1.039519  1.052896  1.037119  1.035667   \n",
       "2021-11-05  0.998545  1.005911  1.051153  1.019823  1.038894  1.026319   \n",
       "2021-11-06  1.023982  0.986602  1.032699  1.017797  1.012488  1.078370   \n",
       "2021-11-07  1.004594  0.967020  1.007590  1.015775  0.992271  1.083935   \n",
       "2021-11-08  0.982254  0.994342  1.020825  1.001906  0.963984  1.067934   \n",
       "\n",
       "                  6         7         8         9   ...        90        91  \\\n",
       "2021-11-04  1.028343  0.990674  1.010822  1.034486  ...  1.008141  0.990870   \n",
       "2021-11-05  1.020752  0.998223  1.021761  1.009466  ...  1.020408  1.004862   \n",
       "2021-11-06  1.034977  0.988010  0.981710  1.026916  ...  1.042231  1.024729   \n",
       "2021-11-07  1.037955  0.988038  0.982985  1.028556  ...  1.048179  1.008545   \n",
       "2021-11-08  1.034189  1.009542  1.021629  0.997180  ...  1.054008  1.012265   \n",
       "\n",
       "                  92        93        94        95        96        97  \\\n",
       "2021-11-04  1.019275  1.021718  1.021657  1.022838  0.998485  0.997155   \n",
       "2021-11-05  0.994812  1.036927  1.043536  1.016779  0.950174  0.985343   \n",
       "2021-11-06  1.018272  1.034312  1.024447  1.035994  0.943954  0.973841   \n",
       "2021-11-07  1.049847  1.029009  1.017472  1.046841  0.917689  0.996185   \n",
       "2021-11-08  1.055426  1.004256  1.016416  1.067111  0.894733  1.000698   \n",
       "\n",
       "                  98        99  \n",
       "2021-11-04  0.991655  1.000980  \n",
       "2021-11-05  0.988016  0.986651  \n",
       "2021-11-06  0.998402  1.005379  \n",
       "2021-11-07  0.992259  0.982310  \n",
       "2021-11-08  1.011356  0.978876  \n",
       "\n",
       "[5 rows x 100 columns]"
      ]
     },
     "execution_count": 38,
     "metadata": {},
     "output_type": "execute_result"
    }
   ],
   "source": [
    "(R_FB+1).cumprod().head()"
   ]
  },
  {
   "cell_type": "code",
   "execution_count": 46,
   "metadata": {},
   "outputs": [
    {
     "data": {
      "text/html": [
       "<div>\n",
       "<style scoped>\n",
       "    .dataframe tbody tr th:only-of-type {\n",
       "        vertical-align: middle;\n",
       "    }\n",
       "\n",
       "    .dataframe tbody tr th {\n",
       "        vertical-align: top;\n",
       "    }\n",
       "\n",
       "    .dataframe thead th {\n",
       "        text-align: right;\n",
       "    }\n",
       "</style>\n",
       "<table border=\"1\" class=\"dataframe\">\n",
       "  <thead>\n",
       "    <tr style=\"text-align: right;\">\n",
       "      <th></th>\n",
       "      <th>0</th>\n",
       "      <th>1</th>\n",
       "      <th>2</th>\n",
       "      <th>3</th>\n",
       "      <th>4</th>\n",
       "      <th>5</th>\n",
       "      <th>6</th>\n",
       "      <th>7</th>\n",
       "      <th>8</th>\n",
       "      <th>9</th>\n",
       "      <th>...</th>\n",
       "      <th>990</th>\n",
       "      <th>991</th>\n",
       "      <th>992</th>\n",
       "      <th>993</th>\n",
       "      <th>994</th>\n",
       "      <th>995</th>\n",
       "      <th>996</th>\n",
       "      <th>997</th>\n",
       "      <th>998</th>\n",
       "      <th>999</th>\n",
       "    </tr>\n",
       "  </thead>\n",
       "  <tbody>\n",
       "    <tr>\n",
       "      <th>2021-11-04</th>\n",
       "      <td>337.390475</td>\n",
       "      <td>334.093159</td>\n",
       "      <td>329.440381</td>\n",
       "      <td>327.685707</td>\n",
       "      <td>335.688904</td>\n",
       "      <td>332.594253</td>\n",
       "      <td>330.752937</td>\n",
       "      <td>326.649490</td>\n",
       "      <td>331.091632</td>\n",
       "      <td>321.415415</td>\n",
       "      <td>...</td>\n",
       "      <td>320.142616</td>\n",
       "      <td>335.373599</td>\n",
       "      <td>336.387664</td>\n",
       "      <td>329.903105</td>\n",
       "      <td>333.166649</td>\n",
       "      <td>337.927460</td>\n",
       "      <td>326.162876</td>\n",
       "      <td>331.045083</td>\n",
       "      <td>331.228988</td>\n",
       "      <td>331.064438</td>\n",
       "    </tr>\n",
       "    <tr>\n",
       "      <th>2021-11-05</th>\n",
       "      <td>337.849863</td>\n",
       "      <td>332.325889</td>\n",
       "      <td>328.304086</td>\n",
       "      <td>335.796785</td>\n",
       "      <td>328.932500</td>\n",
       "      <td>337.607698</td>\n",
       "      <td>331.363416</td>\n",
       "      <td>318.482835</td>\n",
       "      <td>325.358113</td>\n",
       "      <td>327.788681</td>\n",
       "      <td>...</td>\n",
       "      <td>316.789060</td>\n",
       "      <td>331.439537</td>\n",
       "      <td>335.635580</td>\n",
       "      <td>334.942036</td>\n",
       "      <td>329.928236</td>\n",
       "      <td>338.612350</td>\n",
       "      <td>315.470605</td>\n",
       "      <td>321.627317</td>\n",
       "      <td>333.329774</td>\n",
       "      <td>330.393035</td>\n",
       "    </tr>\n",
       "    <tr>\n",
       "      <th>2021-11-06</th>\n",
       "      <td>346.341015</td>\n",
       "      <td>333.736948</td>\n",
       "      <td>329.460953</td>\n",
       "      <td>328.069451</td>\n",
       "      <td>321.987777</td>\n",
       "      <td>330.812326</td>\n",
       "      <td>321.965354</td>\n",
       "      <td>313.619522</td>\n",
       "      <td>319.745246</td>\n",
       "      <td>319.539927</td>\n",
       "      <td>...</td>\n",
       "      <td>329.762044</td>\n",
       "      <td>332.191064</td>\n",
       "      <td>343.984473</td>\n",
       "      <td>327.392497</td>\n",
       "      <td>322.076733</td>\n",
       "      <td>338.928315</td>\n",
       "      <td>314.934801</td>\n",
       "      <td>319.072118</td>\n",
       "      <td>336.896224</td>\n",
       "      <td>335.707963</td>\n",
       "    </tr>\n",
       "    <tr>\n",
       "      <th>2021-11-07</th>\n",
       "      <td>354.360703</td>\n",
       "      <td>337.333263</td>\n",
       "      <td>333.908816</td>\n",
       "      <td>321.848349</td>\n",
       "      <td>326.240118</td>\n",
       "      <td>327.747149</td>\n",
       "      <td>330.920671</td>\n",
       "      <td>318.250763</td>\n",
       "      <td>311.353306</td>\n",
       "      <td>319.185663</td>\n",
       "      <td>...</td>\n",
       "      <td>322.165065</td>\n",
       "      <td>328.911202</td>\n",
       "      <td>342.116116</td>\n",
       "      <td>332.696500</td>\n",
       "      <td>325.784052</td>\n",
       "      <td>335.444570</td>\n",
       "      <td>312.750772</td>\n",
       "      <td>299.900117</td>\n",
       "      <td>335.228720</td>\n",
       "      <td>335.997063</td>\n",
       "    </tr>\n",
       "    <tr>\n",
       "      <th>2021-11-08</th>\n",
       "      <td>339.648720</td>\n",
       "      <td>350.346777</td>\n",
       "      <td>338.883187</td>\n",
       "      <td>312.382864</td>\n",
       "      <td>325.914390</td>\n",
       "      <td>328.737892</td>\n",
       "      <td>335.514215</td>\n",
       "      <td>327.653620</td>\n",
       "      <td>301.287603</td>\n",
       "      <td>331.832720</td>\n",
       "      <td>...</td>\n",
       "      <td>319.419571</td>\n",
       "      <td>330.416500</td>\n",
       "      <td>339.694147</td>\n",
       "      <td>332.696337</td>\n",
       "      <td>318.737380</td>\n",
       "      <td>335.670274</td>\n",
       "      <td>313.812474</td>\n",
       "      <td>290.227625</td>\n",
       "      <td>328.211359</td>\n",
       "      <td>342.905336</td>\n",
       "    </tr>\n",
       "  </tbody>\n",
       "</table>\n",
       "<p>5 rows × 1000 columns</p>\n",
       "</div>"
      ],
      "text/plain": [
       "                   0           1           2           3           4    \\\n",
       "2021-11-04  337.390475  334.093159  329.440381  327.685707  335.688904   \n",
       "2021-11-05  337.849863  332.325889  328.304086  335.796785  328.932500   \n",
       "2021-11-06  346.341015  333.736948  329.460953  328.069451  321.987777   \n",
       "2021-11-07  354.360703  337.333263  333.908816  321.848349  326.240118   \n",
       "2021-11-08  339.648720  350.346777  338.883187  312.382864  325.914390   \n",
       "\n",
       "                   5           6           7           8           9    ...  \\\n",
       "2021-11-04  332.594253  330.752937  326.649490  331.091632  321.415415  ...   \n",
       "2021-11-05  337.607698  331.363416  318.482835  325.358113  327.788681  ...   \n",
       "2021-11-06  330.812326  321.965354  313.619522  319.745246  319.539927  ...   \n",
       "2021-11-07  327.747149  330.920671  318.250763  311.353306  319.185663  ...   \n",
       "2021-11-08  328.737892  335.514215  327.653620  301.287603  331.832720  ...   \n",
       "\n",
       "                   990         991         992         993         994  \\\n",
       "2021-11-04  320.142616  335.373599  336.387664  329.903105  333.166649   \n",
       "2021-11-05  316.789060  331.439537  335.635580  334.942036  329.928236   \n",
       "2021-11-06  329.762044  332.191064  343.984473  327.392497  322.076733   \n",
       "2021-11-07  322.165065  328.911202  342.116116  332.696500  325.784052   \n",
       "2021-11-08  319.419571  330.416500  339.694147  332.696337  318.737380   \n",
       "\n",
       "                   995         996         997         998         999  \n",
       "2021-11-04  337.927460  326.162876  331.045083  331.228988  331.064438  \n",
       "2021-11-05  338.612350  315.470605  321.627317  333.329774  330.393035  \n",
       "2021-11-06  338.928315  314.934801  319.072118  336.896224  335.707963  \n",
       "2021-11-07  335.444570  312.750772  299.900117  335.228720  335.997063  \n",
       "2021-11-08  335.670274  313.812474  290.227625  328.211359  342.905336  \n",
       "\n",
       "[5 rows x 1000 columns]"
      ]
     },
     "execution_count": 46,
     "metadata": {},
     "output_type": "execute_result"
    }
   ],
   "source": [
    "P_FB=data['FB'].iloc[-1]*(R_FB+1).cumprod()\n",
    "P_FB.head()"
   ]
  },
  {
   "cell_type": "markdown",
   "metadata": {},
   "source": [
    "## 4. Probabilidad Precio-Umbral\n",
    "\n",
    "Ya que tenemos muchos escenarios de precios proyectados, podemos ver varias cosas. Por ejemplo, ¿cuál es la probabilidad de que el precio de cierre sobrepase algún valor umbral en algún momento?"
   ]
  },
  {
   "cell_type": "code",
   "execution_count": 42,
   "metadata": {},
   "outputs": [
    {
     "data": {
      "text/plain": [
       "397.94399414062497"
      ]
     },
     "execution_count": 42,
     "metadata": {},
     "output_type": "execute_result"
    }
   ],
   "source": [
    "U_FB=data['FB'].iloc[-1]*1.2 # Queremos obtener un retorno del 20%\n",
    "U_FB"
   ]
  },
  {
   "cell_type": "code",
   "execution_count": 47,
   "metadata": {},
   "outputs": [
    {
     "data": {
      "text/html": [
       "<div>\n",
       "<style scoped>\n",
       "    .dataframe tbody tr th:only-of-type {\n",
       "        vertical-align: middle;\n",
       "    }\n",
       "\n",
       "    .dataframe tbody tr th {\n",
       "        vertical-align: top;\n",
       "    }\n",
       "\n",
       "    .dataframe thead th {\n",
       "        text-align: right;\n",
       "    }\n",
       "</style>\n",
       "<table border=\"1\" class=\"dataframe\">\n",
       "  <thead>\n",
       "    <tr style=\"text-align: right;\">\n",
       "      <th></th>\n",
       "      <th>0</th>\n",
       "      <th>1</th>\n",
       "      <th>2</th>\n",
       "      <th>3</th>\n",
       "      <th>4</th>\n",
       "      <th>5</th>\n",
       "      <th>6</th>\n",
       "      <th>7</th>\n",
       "      <th>8</th>\n",
       "      <th>9</th>\n",
       "      <th>...</th>\n",
       "      <th>990</th>\n",
       "      <th>991</th>\n",
       "      <th>992</th>\n",
       "      <th>993</th>\n",
       "      <th>994</th>\n",
       "      <th>995</th>\n",
       "      <th>996</th>\n",
       "      <th>997</th>\n",
       "      <th>998</th>\n",
       "      <th>999</th>\n",
       "    </tr>\n",
       "  </thead>\n",
       "  <tbody>\n",
       "    <tr>\n",
       "      <th>2021-11-04</th>\n",
       "      <td>False</td>\n",
       "      <td>False</td>\n",
       "      <td>False</td>\n",
       "      <td>False</td>\n",
       "      <td>False</td>\n",
       "      <td>False</td>\n",
       "      <td>False</td>\n",
       "      <td>False</td>\n",
       "      <td>False</td>\n",
       "      <td>False</td>\n",
       "      <td>...</td>\n",
       "      <td>False</td>\n",
       "      <td>False</td>\n",
       "      <td>False</td>\n",
       "      <td>False</td>\n",
       "      <td>False</td>\n",
       "      <td>False</td>\n",
       "      <td>False</td>\n",
       "      <td>False</td>\n",
       "      <td>False</td>\n",
       "      <td>False</td>\n",
       "    </tr>\n",
       "    <tr>\n",
       "      <th>2021-11-05</th>\n",
       "      <td>False</td>\n",
       "      <td>False</td>\n",
       "      <td>False</td>\n",
       "      <td>False</td>\n",
       "      <td>False</td>\n",
       "      <td>False</td>\n",
       "      <td>False</td>\n",
       "      <td>False</td>\n",
       "      <td>False</td>\n",
       "      <td>False</td>\n",
       "      <td>...</td>\n",
       "      <td>False</td>\n",
       "      <td>False</td>\n",
       "      <td>False</td>\n",
       "      <td>False</td>\n",
       "      <td>False</td>\n",
       "      <td>False</td>\n",
       "      <td>False</td>\n",
       "      <td>False</td>\n",
       "      <td>False</td>\n",
       "      <td>False</td>\n",
       "    </tr>\n",
       "    <tr>\n",
       "      <th>2021-11-06</th>\n",
       "      <td>False</td>\n",
       "      <td>False</td>\n",
       "      <td>False</td>\n",
       "      <td>False</td>\n",
       "      <td>False</td>\n",
       "      <td>False</td>\n",
       "      <td>False</td>\n",
       "      <td>False</td>\n",
       "      <td>False</td>\n",
       "      <td>False</td>\n",
       "      <td>...</td>\n",
       "      <td>False</td>\n",
       "      <td>False</td>\n",
       "      <td>False</td>\n",
       "      <td>False</td>\n",
       "      <td>False</td>\n",
       "      <td>False</td>\n",
       "      <td>False</td>\n",
       "      <td>False</td>\n",
       "      <td>False</td>\n",
       "      <td>False</td>\n",
       "    </tr>\n",
       "    <tr>\n",
       "      <th>2021-11-07</th>\n",
       "      <td>False</td>\n",
       "      <td>False</td>\n",
       "      <td>False</td>\n",
       "      <td>False</td>\n",
       "      <td>False</td>\n",
       "      <td>False</td>\n",
       "      <td>False</td>\n",
       "      <td>False</td>\n",
       "      <td>False</td>\n",
       "      <td>False</td>\n",
       "      <td>...</td>\n",
       "      <td>False</td>\n",
       "      <td>False</td>\n",
       "      <td>False</td>\n",
       "      <td>False</td>\n",
       "      <td>False</td>\n",
       "      <td>False</td>\n",
       "      <td>False</td>\n",
       "      <td>False</td>\n",
       "      <td>False</td>\n",
       "      <td>False</td>\n",
       "    </tr>\n",
       "    <tr>\n",
       "      <th>2021-11-08</th>\n",
       "      <td>False</td>\n",
       "      <td>False</td>\n",
       "      <td>False</td>\n",
       "      <td>False</td>\n",
       "      <td>False</td>\n",
       "      <td>False</td>\n",
       "      <td>False</td>\n",
       "      <td>False</td>\n",
       "      <td>False</td>\n",
       "      <td>False</td>\n",
       "      <td>...</td>\n",
       "      <td>False</td>\n",
       "      <td>False</td>\n",
       "      <td>False</td>\n",
       "      <td>False</td>\n",
       "      <td>False</td>\n",
       "      <td>False</td>\n",
       "      <td>False</td>\n",
       "      <td>False</td>\n",
       "      <td>False</td>\n",
       "      <td>False</td>\n",
       "    </tr>\n",
       "  </tbody>\n",
       "</table>\n",
       "<p>5 rows × 1000 columns</p>\n",
       "</div>"
      ],
      "text/plain": [
       "              0      1      2      3      4      5      6      7      8    \\\n",
       "2021-11-04  False  False  False  False  False  False  False  False  False   \n",
       "2021-11-05  False  False  False  False  False  False  False  False  False   \n",
       "2021-11-06  False  False  False  False  False  False  False  False  False   \n",
       "2021-11-07  False  False  False  False  False  False  False  False  False   \n",
       "2021-11-08  False  False  False  False  False  False  False  False  False   \n",
       "\n",
       "              9    ...    990    991    992    993    994    995    996  \\\n",
       "2021-11-04  False  ...  False  False  False  False  False  False  False   \n",
       "2021-11-05  False  ...  False  False  False  False  False  False  False   \n",
       "2021-11-06  False  ...  False  False  False  False  False  False  False   \n",
       "2021-11-07  False  ...  False  False  False  False  False  False  False   \n",
       "2021-11-08  False  ...  False  False  False  False  False  False  False   \n",
       "\n",
       "              997    998    999  \n",
       "2021-11-04  False  False  False  \n",
       "2021-11-05  False  False  False  \n",
       "2021-11-06  False  False  False  \n",
       "2021-11-07  False  False  False  \n",
       "2021-11-08  False  False  False  \n",
       "\n",
       "[5 rows x 1000 columns]"
      ]
     },
     "execution_count": 47,
     "metadata": {},
     "output_type": "execute_result"
    }
   ],
   "source": [
    "B_FB=P_FB>U_FB\n",
    "B_FB.head()"
   ]
  },
  {
   "cell_type": "code",
   "execution_count": 48,
   "metadata": {},
   "outputs": [
    {
     "data": {
      "text/plain": [
       "<AxesSubplot:>"
      ]
     },
     "execution_count": 48,
     "metadata": {},
     "output_type": "execute_result"
    },
    {
     "data": {
      "image/png": "[encoded data removed]",
      "text/plain": [
       "<Figure size 432x288 with 1 Axes>"
      ]
     },
     "metadata": {
      "needs_background": "light"
     },
     "output_type": "display_data"
    }
   ],
   "source": [
    "M_FB=B_FB.mean(axis=1)\n",
    "M_FB.plot(grid=True)"
   ]
  },
  {
   "cell_type": "code",
   "execution_count": 49,
   "metadata": {},
   "outputs": [
    {
     "data": {
      "text/plain": [
       "<AxesSubplot:>"
      ]
     },
     "execution_count": 49,
     "metadata": {},
     "output_type": "execute_result"
    },
    {
     "data": {
      "image/png": "[encoded data removed]",
      "text/plain": [
       "<Figure size 432x288 with 1 Axes>"
      ]
     },
     "metadata": {
      "needs_background": "light"
     },
     "output_type": "display_data"
    }
   ],
   "source": [
    "# Probabilidad de superar un retorno del 20% del precio actual para 'AAPL'\n",
    "P_AAPL=data['AAPL'].iloc[-1]*(R_AAPL+1).cumprod()\n",
    "U_AAPL=data['AAPL'].iloc[-1]*1.2\n",
    "B_AAPL=P_AAPL>U_AAPL\n",
    "M_AAPL=B_AAPL.mean(axis=1)\n",
    "M_AAPL.plot(grid=True)"
   ]
  },
  {
   "cell_type": "code",
   "execution_count": 50,
   "metadata": {},
   "outputs": [
    {
     "data": {
      "text/plain": [
       "<AxesSubplot:>"
      ]
     },
     "execution_count": 50,
     "metadata": {},
     "output_type": "execute_result"
    },
    {
     "data": {
      "image/png": "[encoded data removed]",
      "text/plain": [
       "<Figure size 432x288 with 1 Axes>"
      ]
     },
     "metadata": {
      "needs_background": "light"
     },
     "output_type": "display_data"
    }
   ],
   "source": [
    "# Probabilidad de superar un retorno del 20% del precio actual para 'AMZN'\n",
    "P_AMZN=data['AMZN'].iloc[-1]*(R_AMZN+1).cumprod()\n",
    "U_AMZN=data['AMZN'].iloc[-1]*1.2\n",
    "B_AMZN=P_AMZN>U_AMZN\n",
    "M_AMZN=B_AMZN.mean(axis=1)\n",
    "M_AMZN.plot(grid=True)"
   ]
  },
  {
   "cell_type": "markdown",
   "metadata": {},
   "source": [
    "___\n",
    "Entonces, ya aprendimos a bajar datos con pandas-datareader. En específico, a partir de los precios de cierre ajustados obtuvimos los rendimientos diarios.\n",
    "\n",
    "Suponiendo que los rendimientos diarios son un proceso estocástico estacionario de distribución normal, pudimos caracaterizarlo y proyectar varios escenarios de evolución de los precios (montecarlo).\n",
    "\n",
    "Con estas proyecciones pudimos calcular probabilidades de sobrepasar cierto precio umbral: toma de decisiones."
   ]
  }
 ],
 "metadata": {
  "kernelspec": {
   "display_name": "Python 3",
   "language": "python",
   "name": "python3"
  },
  "language_info": {
   "codemirror_mode": {
    "name": "ipython",
    "version": 3
   },
   "file_extension": ".py",
   "mimetype": "text/x-python",
   "name": "python",
   "nbconvert_exporter": "python",
   "pygments_lexer": "ipython3",
   "version": "3.8.8"
  }
 },
 "nbformat": 4,
 "nbformat_minor": 2
}
